{
 "cells": [
  {
   "cell_type": "code",
   "execution_count": 5,
   "id": "bd89c762",
   "metadata": {},
   "outputs": [],
   "source": [
    "import numpy as np\n",
    "import pandas as pd\n",
    "import matplotlib.pyplot as plt\n",
    "# import seaborn as sns\n",
    "# import sklearn"
   ]
  },
  {
   "cell_type": "code",
   "execution_count": null,
   "id": "99c42b40",
   "metadata": {},
   "outputs": [],
   "source": [
    "# Importing Dataset\n",
    "\n",
    "X_train = np.load(\"X_train.npy\")\n",
    "X_test = np.load(\"X_test.npy\")\n",
    "X_val = np.load(\"X_val.npy\")\n",
    "y_train = np.load(\"y_train.npy\")\n",
    "y_test = np.load(\"y_test.npy\")\n",
    "y_val = np.load(\"y_val.npy\")"
   ]
  },
  {
   "cell_type": "code",
   "execution_count": 9,
   "id": "23e85064-174d-488b-b7c2-7b66727405a6",
   "metadata": {},
   "outputs": [
    {
     "ename": "SyntaxError",
     "evalue": "(unicode error) 'unicodeescape' codec can't decode bytes in position 2-3: truncated \\UXXXXXXXX escape (2040185911.py, line 4)",
     "output_type": "error",
     "traceback": [
      "\u001b[1;36m  Cell \u001b[1;32mIn[9], line 4\u001b[1;36m\u001b[0m\n\u001b[1;33m    data = pd.read_csv('C:\\Users\\ishika & divita\\OneDrive - iitgn.ac.in\\Desktop\\es335-24-fall-assignment-1\\UCI HAR Dataset\\Combined\\Train\\LAYING\\Subject_1.csv')\u001b[0m\n\u001b[1;37m                       ^\u001b[0m\n\u001b[1;31mSyntaxError\u001b[0m\u001b[1;31m:\u001b[0m (unicode error) 'unicodeescape' codec can't decode bytes in position 2-3: truncated \\UXXXXXXXX escape\n"
     ]
    }
   ],
   "source": [
    "import matplotlib.pyplot as plt\n",
    "import pandas as pd\n",
    "# Replace 'path/to/your/file.csv' with the actual path to your CSV file\n",
    "data = pd.read_csv('C:\\Users\\ishika & divita\\OneDrive - iitgn.ac.in\\Desktop\\es335-24-fall-assignment-1\\UCI HAR Dataset\\Combined\\Train\\LAYING\\Subject_1.csv')\n",
    "\n",
    "fig, axes = plt.subplots(2, 3, figsize=(20, 15))\n",
    "fig.suptitle(\"Accelerometer Waveforms for Different Activities\", fontsize=16)\n",
    "classes = {\"WALKING\": 1, \"WALKING_UPSTAIRS\": 2,\n",
    "           \"WALKING_DOWNSTAIRS\": 3, \"SITTING\": 4, \"STANDING\": 5, \"LAYING\": 6}\n",
    "axes = axes.flatten()\n",
    "\n",
    "for i, activity in enumerate(classes):\n",
    "    data = X_train[y_train == classes[activity]][0]\n",
    "    axes[i].plot(data, label=[\"x acc\", \"y acc\", \"z acc\"])\n",
    "    axes[i].set_title(f\"Waveform for {activity}\")\n",
    "    axes[i].set_xlabel(\"Sample number\")\n",
    "    axes[i].set_ylabel(\"Acceleration values\")\n",
    "    axes[i].set_ylim([-1.5, 2.5])\n",
    "    axes[i].legend()\n",
    "\n",
    "plt.tight_layout(rect=[0, 0.03, 1, 0.95])\n",
    "plt.show()"
   ]
  },
  {
   "cell_type": "code",
   "execution_count": null,
   "id": "13e8831f",
   "metadata": {},
   "outputs": [],
   "source": []
  }
 ],
 "metadata": {
  "kernelspec": {
   "display_name": "Python 3 (ipykernel)",
   "language": "python",
   "name": "python3"
  },
  "language_info": {
   "codemirror_mode": {
    "name": "ipython",
    "version": 3
   },
   "file_extension": ".py",
   "mimetype": "text/x-python",
   "name": "python",
   "nbconvert_exporter": "python",
   "pygments_lexer": "ipython3",
   "version": "3.12.2"
  }
 },
 "nbformat": 4,
 "nbformat_minor": 5
}

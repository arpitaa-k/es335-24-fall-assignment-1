{
 "cells": [
  {
   "cell_type": "code",
   "execution_count": 23,
   "id": "8231a2b2",
   "metadata": {},
   "outputs": [],
   "source": [
    "import numpy as np\n",
    "import pandas as pd\n",
    "import matplotlib.pyplot as plt\n",
    "# import seaborn as sns\n",
    "import sklearn"
   ]
  },
  {
   "cell_type": "code",
   "execution_count": 30,
   "id": "40d365e8",
   "metadata": {},
   "outputs": [
    {
     "name": "stderr",
     "output_type": "stream",
     "text": [
      "<>:4: SyntaxWarning: invalid escape sequence '\\s'\n",
      "<>:4: SyntaxWarning: invalid escape sequence '\\s'\n",
      "C:\\Users\\ishika & divita\\AppData\\Local\\Temp\\ipykernel_13416\\533281009.py:4: SyntaxWarning: invalid escape sequence '\\s'\n",
      "  X_train = pd.read_csv('UCI HAR Dataset/UCI HAR Dataset/train/X_train.txt', sep=\"\\s+\", header=None).values\n"
     ]
    }
   ],
   "source": [
    "# import numpy as np\n",
    "# import pandas as pd\n",
    "\n",
    "# X_train = pd.read_csv('UCI HAR Dataset/UCI HAR Dataset/train/X_train.txt', sep=\"\\s+\", header=None).values\n",
    "\n",
    "# y_train = pd.read_csv('UCI HAR Dataset/UCI HAR Dataset/train/y_train.txt', header=None).values.ravel()\n",
    "\n",
    "# import pandas as pd\n",
    "# from sklearn.tree import DecisionTreeClassifier\n",
    "# from sklearn.metrics import accuracy_score, precision_score, recall_score, confusion_matrix, classification_report\n",
    "\n",
    "# X_test_path = r\"UCI HAR Dataset\\UCI HAR Dataset\\test\\X_test.txt\"\n",
    "# X_test = pd.read_csv(X_test_path, delim_whitespace=True, header=None)\n",
    "\n",
    "# y_test_path = r\"UCI HAR Dataset\\UCI HAR Dataset\\test\\y_test.txt\"\n",
    "# y_test = pd.read_csv(y_test_path, delim_whitespace=True, header=None)\n"
   ]
  },
  {
   "cell_type": "code",
   "execution_count": 31,
   "id": "e9218624",
   "metadata": {},
   "outputs": [
    {
     "name": "stdout",
     "output_type": "stream",
     "text": [
      "Accuracy on train dataset: 99.54%\n",
      "Accuracy on test dataset: 82.63%\n",
      "Precision on test dataset: 82.92%\n",
      "Recall on test dataset: 82.63%\n",
      "Confusion Matrix:\n",
      "[[446  22  28   0   0   0]\n",
      " [ 91 314  65   0   0   1]\n",
      " [ 43  48 327   0   0   2]\n",
      " [  0   0   0 392  96   3]\n",
      " [  0   0   0  83 449   0]\n",
      " [  0   0   0  14  16 507]]\n"
     ]
    }
   ],
   "source": [
    "import numpy as np\n",
    "import pandas as pd\n",
    "from sklearn.tree import DecisionTreeClassifier\n",
    "from sklearn.metrics import accuracy_score, precision_score, recall_score, confusion_matrix, classification_report\n",
    "\n",
    "X_train = pd.read_csv(r\"UCI HAR Dataset\\UCI HAR Dataset\\train\\X_train.txt\", delim_whitespace=True, header=None)\n",
    "y_train = pd.read_csv(r\"UCI HAR Dataset\\UCI HAR Dataset\\train\\y_train.txt\", delim_whitespace=True, header=None)\n",
    "X_test = pd.read_csv(r\"UCI HAR Dataset\\UCI HAR Dataset\\test\\X_test.txt\", delim_whitespace=True, header=None)\n",
    "y_test = pd.read_csv(r\"UCI HAR Dataset\\UCI HAR Dataset\\test\\y_test.txt\", delim_whitespace=True, header=None)\n",
    "\n",
    "y_train = y_train.values.ravel()\n",
    "y_test = y_test.values.ravel()\n",
    " \n",
    "X_train_flat = X_train.values\n",
    "X_test_flat = X_test.values\n",
    "\n",
    "clf = DecisionTreeClassifier(criterion=\"gini\", random_state=46, min_samples_split=4, max_features='sqrt')\n",
    "\n",
    "clf.fit(X_train_flat, y_train)\n",
    "\n",
    "y_train_pred = clf.predict(X_train_flat)\n",
    "y_test_pred = clf.predict(X_test_flat)\n",
    "\n",
    "train_ac = accuracy_score(y_train, y_train_pred)\n",
    "test_ac = accuracy_score(y_test, y_test_pred)\n",
    "\n",
    "print(f\"Accuracy on train dataset: {train_ac * 100:.2f}%\")\n",
    "print(f\"Accuracy on test dataset: {test_ac * 100:.2f}%\")\n",
    "\n",
    "precision = precision_score(y_test, y_test_pred, average='weighted')\n",
    "recall = recall_score(y_test, y_test_pred, average='weighted')\n",
    "conf_matrix = confusion_matrix(y_test, y_test_pred)\n",
    "\n",
    "print(f\"Precision on test dataset: {precision * 100:.2f}%\")\n",
    "print(f\"Recall on test dataset: {recall * 100:.2f}%\")\n",
    "print(\"Confusion Matrix:\")\n",
    "print(conf_matrix)\n"
   ]
  },
  {
   "cell_type": "code",
   "execution_count": 25,
   "id": "d287c710",
   "metadata": {},
   "outputs": [
    {
     "name": "stdout",
     "output_type": "stream",
     "text": [
      "Confusion Matrix:\n",
      "[[446  22  28   0   0   0]\n",
      " [ 91 314  65   0   0   1]\n",
      " [ 43  48 327   0   0   2]\n",
      " [  0   0   0 392  96   3]\n",
      " [  0   0   0  83 449   0]\n",
      " [  0   0   0  14  16 507]]\n"
     ]
    }
   ],
   "source": [
    "conf_matrix = confusion_matrix(y_test, y_test_pred)\n",
    "print(\"Confusion Matrix:\")\n",
    "print(conf_matrix)"
   ]
  },
  {
   "cell_type": "code",
   "execution_count": null,
   "id": "0cf924aa",
   "metadata": {},
   "outputs": [],
   "source": []
  }
 ],
 "metadata": {
  "kernelspec": {
   "display_name": "Python 3",
   "language": "python",
   "name": "python3"
  },
  "language_info": {
   "codemirror_mode": {
    "name": "ipython",
    "version": 3
   },
   "file_extension": ".py",
   "mimetype": "text/x-python",
   "name": "python",
   "nbconvert_exporter": "python",
   "pygments_lexer": "ipython3",
   "version": "3.12.2"
  }
 },
 "nbformat": 4,
 "nbformat_minor": 5
}

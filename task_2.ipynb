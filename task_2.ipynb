{
 "cells": [
  {
   "cell_type": "code",
   "execution_count": 23,
   "id": "8231a2b2",
   "metadata": {},
   "outputs": [],
   "source": [
    "import numpy as np\n",
    "import pandas as pd\n",
    "import matplotlib.pyplot as plt\n",
    "# import seaborn as sns\n",
    "import sklearn"
   ]
  },
  {
   "cell_type": "code",
   "execution_count": 1,
   "id": "bd8597c6",
   "metadata": {},
   "outputs": [],
   "source": [
    "import pandas as pd\n",
    "\n",
    "# Read the text file into a DataFrame\n",
    "# Adjust 'delim_whitespace=True' if the file is whitespace-delimited or use 'delimiter' for other delimiters\n",
    "Xtrain = pd.read_csv(r'UCI HAR Dataset\\UCI HAR Dataset\\train\\X_train.txt', delim_whitespace=True, header=None)\n",
    "\n",
    "# Write the DataFrame to a CSV file\n",
    "Xtrain.to_csv('Xtrain.csv', index=False, header=False)\n",
    "\n",
    "Xtest = pd.read_csv(r'UCI HAR Dataset\\UCI HAR Dataset\\test\\X_test.txt', delim_whitespace=True, header=None)\n",
    "\n",
    "# Write the DataFrame to a CSV file\n",
    "Xtest.to_csv('Xtest.csv', index=False, header=False)\n",
    "\n"
   ]
  },
  {
   "cell_type": "markdown",
   "id": "6bcdc8e9",
   "metadata": {},
   "source": [
    "x------x------x-----x"
   ]
  },
  {
   "cell_type": "code",
   "execution_count": 3,
   "id": "4535127a",
   "metadata": {},
   "outputs": [
    {
     "name": "stdout",
     "output_type": "stream",
     "text": [
      "(7351, 561)\n",
      "[[ 0.28602671 -0.01316336 -0.11908252 ... -0.69809082  0.28134292\n",
      "  -0.08389801]\n",
      " [ 0.27548482 -0.02605042 -0.11815167 ... -0.70277146  0.28008303\n",
      "  -0.0793462 ]\n",
      " [ 0.27029822 -0.03261387 -0.11752018 ... -0.69895383  0.28411379\n",
      "  -0.077108  ]\n",
      " ...\n",
      " [ 0.34996609  0.03007744 -0.11578796 ... -0.65535684  0.27447878\n",
      "   0.18118355]\n",
      " [ 0.23759383  0.01846687 -0.09649893 ... -0.65971859  0.26478161\n",
      "   0.18756291]\n",
      " [ 0.15362719 -0.01843651 -0.13701846 ... -0.66008023  0.26393619\n",
      "   0.1881034 ]]\n"
     ]
    }
   ],
   "source": [
    "import numpy as np\n",
    "\n",
    "# Specify the path to your CSV file\n",
    "csv_file_path1 = 'Xtrain.csv'\n",
    "csv_file_path2 = 'Xtest.csv'\n",
    "\n",
    "# Method 1: Using numpy.genfromtxt to handle missing values and complex data\n",
    "# Load CSV file data into a NumPy array\n",
    "data1 = np.genfromtxt(csv_file_path1, delimiter=',', skip_header=1)  # skip_header=1 to skip the header row, if present\n",
    "data2 = np.genfromtxt(csv_file_path2, delimiter=',', skip_header=1) \n",
    "# Method 2: Using numpy.loadtxt if the CSV is well-formed with no missing values\n",
    "# data = np.loadtxt(csv_file_path, delimiter=',', skiprows=1)  # skiprows=1 to skip the header row, if present\n",
    "\n",
    "# Print the NumPy array to verify\n",
    "print(data1.shape)\n",
    "print(data2)\n"
   ]
  },
  {
   "cell_type": "markdown",
   "id": "78200d90",
   "metadata": {},
   "source": [
    "x---------------------x----------------x"
   ]
  },
  {
   "cell_type": "code",
   "execution_count": 7,
   "id": "54af2526",
   "metadata": {},
   "outputs": [
    {
     "name": "stdout",
     "output_type": "stream",
     "text": [
      "X_train shape: (7352, 561)\n",
      "X_test shape: (2947, 561)\n"
     ]
    }
   ],
   "source": [
    "import numpy as np\n",
    "\n",
    "# Load X_train data from text file\n",
    "X_train = np.loadtxt(r\"UCI HAR Dataset\\UCI HAR Dataset\\train\\X_train.txt\")\n",
    "\n",
    "# Load y_train data from text file\n",
    "# y_train = np.loadtxt(r\"UCI HAR Dataset\\train\\y_train.txt\")\n",
    "\n",
    "# Load X_test data from text file\n",
    "X_test = np.loadtxt(r\"UCI HAR Dataset\\UCI HAR Dataset\\test\\X_test.txt\")\n",
    "\n",
    "# Load y_test data from text file\n",
    "# y_test = np.loadtxt(r\"UCI HAR Dataset\\test\\y_test.txt\")\n",
    "\n",
    "# Check the shapes of the loaded data\n",
    "print(f\"X_train shape: {X_train.shape}\")\n",
    "# print(f\"y_train shape: {y_train.shape}\")\n",
    "print(f\"X_test shape: {X_test.shape}\")\n",
    "# print(f\"y_test shape: {y_test.shape}\")\n"
   ]
  },
  {
   "cell_type": "code",
   "execution_count": 30,
   "id": "40d365e8",
   "metadata": {},
   "outputs": [
    {
     "name": "stderr",
     "output_type": "stream",
     "text": [
      "<>:4: SyntaxWarning: invalid escape sequence '\\s'\n",
      "<>:4: SyntaxWarning: invalid escape sequence '\\s'\n",
      "C:\\Users\\ishika & divita\\AppData\\Local\\Temp\\ipykernel_13416\\533281009.py:4: SyntaxWarning: invalid escape sequence '\\s'\n",
      "  X_train = pd.read_csv('UCI HAR Dataset/UCI HAR Dataset/train/X_train.txt', sep=\"\\s+\", header=None).values\n"
     ]
    }
   ],
   "source": [
    "# import numpy as np\n",
    "# import pandas as pd\n",
    "\n",
    "# X_train = pd.read_csv('UCI HAR Dataset/UCI HAR Dataset/train/X_train.txt', sep=\"\\s+\", header=None).values\n",
    "\n",
    "# y_train = pd.read_csv('UCI HAR Dataset/UCI HAR Dataset/train/y_train.txt', header=None).values.ravel()\n",
    "\n",
    "# import pandas as pd\n",
    "# from sklearn.tree import DecisionTreeClassifier\n",
    "# from sklearn.metrics import accuracy_score, precision_score, recall_score, confusion_matrix, classification_report\n",
    "\n",
    "# X_test_path = r\"UCI HAR Dataset\\UCI HAR Dataset\\test\\X_test.txt\"\n",
    "# X_test = pd.read_csv(X_test_path, delim_whitespace=True, header=None)\n",
    "\n",
    "# y_test_path = r\"UCI HAR Dataset\\UCI HAR Dataset\\test\\y_test.txt\"\n",
    "# y_test = pd.read_csv(y_test_path, delim_whitespace=True, header=None)\n"
   ]
  },
  {
   "cell_type": "markdown",
   "id": "f92df601",
   "metadata": {},
   "source": [
    "1. "
   ]
  },
  {
   "cell_type": "code",
   "execution_count": 31,
   "id": "e9218624",
   "metadata": {},
   "outputs": [
    {
     "name": "stdout",
     "output_type": "stream",
     "text": [
      "Accuracy on train dataset: 99.54%\n",
      "Accuracy on test dataset: 82.63%\n",
      "Precision on test dataset: 82.92%\n",
      "Recall on test dataset: 82.63%\n",
      "Confusion Matrix:\n",
      "[[446  22  28   0   0   0]\n",
      " [ 91 314  65   0   0   1]\n",
      " [ 43  48 327   0   0   2]\n",
      " [  0   0   0 392  96   3]\n",
      " [  0   0   0  83 449   0]\n",
      " [  0   0   0  14  16 507]]\n"
     ]
    }
   ],
   "source": [
    "import numpy as np\n",
    "import pandas as pd\n",
    "from sklearn.tree import DecisionTreeClassifier\n",
    "from sklearn.metrics import accuracy_score, precision_score, recall_score, confusion_matrix, classification_report\n",
    "\n",
    "X_train = pd.read_csv(r\"UCI HAR Dataset\\UCI HAR Dataset\\train\\X_train.txt\", delim_whitespace=True, header=None)\n",
    "y_train = pd.read_csv(r\"UCI HAR Dataset\\UCI HAR Dataset\\train\\y_train.txt\", delim_whitespace=True, header=None)\n",
    "X_test = pd.read_csv(r\"UCI HAR Dataset\\UCI HAR Dataset\\test\\X_test.txt\", delim_whitespace=True, header=None)\n",
    "y_test = pd.read_csv(r\"UCI HAR Dataset\\UCI HAR Dataset\\test\\y_test.txt\", delim_whitespace=True, header=None)\n",
    "\n",
    "y_train = y_train.values.ravel()\n",
    "y_test = y_test.values.ravel()\n",
    " \n",
    "X_train_flat = X_train.values\n",
    "X_test_flat = X_test.values\n",
    "\n",
    "clf = DecisionTreeClassifier(criterion=\"gini\", random_state=46, min_samples_split=4, max_features='sqrt')\n",
    "\n",
    "clf.fit(X_train_flat, y_train)\n",
    "\n",
    "y_train_pred = clf.predict(X_train_flat)\n",
    "y_test_pred = clf.predict(X_test_flat)\n",
    "\n",
    "train_ac = accuracy_score(y_train, y_train_pred)\n",
    "test_ac = accuracy_score(y_test, y_test_pred)\n",
    "\n",
    "print(f\"Accuracy on train dataset: {train_ac * 100:.2f}%\")\n",
    "print(f\"Accuracy on test dataset: {test_ac * 100:.2f}%\")\n",
    "\n",
    "precision = precision_score(y_test, y_test_pred, average='weighted')\n",
    "recall = recall_score(y_test, y_test_pred, average='weighted')\n",
    "conf_matrix = confusion_matrix(y_test, y_test_pred)\n",
    "\n",
    "print(f\"Precision on test dataset: {precision * 100:.2f}%\")\n",
    "print(f\"Recall on test dataset: {recall * 100:.2f}%\")\n",
    "print(\"Confusion Matrix:\")\n",
    "print(conf_matrix)\n"
   ]
  },
  {
   "cell_type": "code",
   "execution_count": 25,
   "id": "d287c710",
   "metadata": {},
   "outputs": [
    {
     "name": "stdout",
     "output_type": "stream",
     "text": [
      "Confusion Matrix:\n",
      "[[446  22  28   0   0   0]\n",
      " [ 91 314  65   0   0   1]\n",
      " [ 43  48 327   0   0   2]\n",
      " [  0   0   0 392  96   3]\n",
      " [  0   0   0  83 449   0]\n",
      " [  0   0   0  14  16 507]]\n"
     ]
    }
   ],
   "source": [
    "conf_matrix = confusion_matrix(y_test, y_test_pred)\n",
    "print(\"Confusion Matrix:\")\n",
    "print(conf_matrix)"
   ]
  },
  {
   "cell_type": "markdown",
   "id": "21c1dbd5",
   "metadata": {},
   "source": [
    "2."
   ]
  },
  {
   "cell_type": "code",
   "execution_count": 3,
   "id": "963b1887",
   "metadata": {},
   "outputs": [
    {
     "name": "stdout",
     "output_type": "stream",
     "text": [
      "Raw X_train shape: (7352, 561)\n",
      "Raw y_train shape: (7352,)\n",
      "Raw X_test shape: (2947, 561)\n",
      "Raw y_test shape: (2947,)\n",
      "*** Feature extraction started ***\n"
     ]
    },
    {
     "name": "stderr",
     "output_type": "stream",
     "text": [
      "C:\\Users\\ishika & divita\\AppData\\Local\\Temp\\ipykernel_17320\\1718626556.py:28: UserWarning: Using default sampling frequency set in configuration file.\n",
      "  X_train_tsfel = tsfel.time_series_features_extractor(cfg, X_train_raw)\n"
     ]
    },
    {
     "data": {
      "text/html": [
       "\n",
       "              <p>\n",
       "                  Progress: 100% Complete\n",
       "              <p/>\n",
       "              <progress\n",
       "                  value='67'\n",
       "                  max='67',\n",
       "                  style='width: 25%',\n",
       "              >\n",
       "                  67\n",
       "              </progress>\n",
       "\n",
       "    "
      ],
      "text/plain": [
       "<IPython.core.display.HTML object>"
      ]
     },
     "metadata": {},
     "output_type": "display_data"
    },
    {
     "name": "stdout",
     "output_type": "stream",
     "text": [
      "\n",
      "*** Feature extraction finished ***\n",
      "*** Feature extraction started ***\n"
     ]
    },
    {
     "name": "stderr",
     "output_type": "stream",
     "text": [
      "C:\\Users\\ishika & divita\\AppData\\Local\\Temp\\ipykernel_17320\\1718626556.py:29: UserWarning: Using default sampling frequency set in configuration file.\n",
      "  X_test_tsfel = tsfel.time_series_features_extractor(cfg, X_test_raw)\n"
     ]
    },
    {
     "data": {
      "text/html": [
       "\n",
       "              <p>\n",
       "                  Progress: 100% Complete\n",
       "              <p/>\n",
       "              <progress\n",
       "                  value='67'\n",
       "                  max='67',\n",
       "                  style='width: 25%',\n",
       "              >\n",
       "                  67\n",
       "              </progress>\n",
       "\n",
       "    "
      ],
      "text/plain": [
       "<IPython.core.display.HTML object>"
      ]
     },
     "metadata": {},
     "output_type": "display_data"
    },
    {
     "name": "stdout",
     "output_type": "stream",
     "text": [
      "\n",
      "*** Feature extraction finished ***\n",
      "Extracted X_train_tsfel shape: (1, 218229)\n",
      "Extracted X_test_tsfel shape: (1, 218229)\n",
      "Mismatch in the number of samples between X_train and y_train!\n"
     ]
    },
    {
     "ename": "ValueError",
     "evalue": "Number of labels=7352 does not match number of samples=1",
     "output_type": "error",
     "traceback": [
      "\u001b[1;31m---------------------------------------------------------------------------\u001b[0m",
      "\u001b[1;31mValueError\u001b[0m                                Traceback (most recent call last)",
      "Cell \u001b[1;32mIn[3], line 42\u001b[0m\n\u001b[0;32m     39\u001b[0m \u001b[38;5;66;03m# Train a Decision Tree Classifier\u001b[39;00m\n\u001b[0;32m     40\u001b[0m clf \u001b[38;5;241m=\u001b[39m DecisionTreeClassifier(criterion\u001b[38;5;241m=\u001b[39m\u001b[38;5;124m\"\u001b[39m\u001b[38;5;124mgini\u001b[39m\u001b[38;5;124m\"\u001b[39m, random_state\u001b[38;5;241m=\u001b[39m\u001b[38;5;241m46\u001b[39m, min_samples_split\u001b[38;5;241m=\u001b[39m\u001b[38;5;241m4\u001b[39m, max_features\u001b[38;5;241m=\u001b[39m\u001b[38;5;124m'\u001b[39m\u001b[38;5;124msqrt\u001b[39m\u001b[38;5;124m'\u001b[39m)\n\u001b[1;32m---> 42\u001b[0m \u001b[43mclf\u001b[49m\u001b[38;5;241;43m.\u001b[39;49m\u001b[43mfit\u001b[49m\u001b[43m(\u001b[49m\u001b[43mX_train_tsfel\u001b[49m\u001b[43m,\u001b[49m\u001b[43m \u001b[49m\u001b[43my_train\u001b[49m\u001b[43m)\u001b[49m\n\u001b[0;32m     44\u001b[0m \u001b[38;5;66;03m# Predict on train and test data\u001b[39;00m\n\u001b[0;32m     45\u001b[0m y_train_pred \u001b[38;5;241m=\u001b[39m clf\u001b[38;5;241m.\u001b[39mpredict(X_train_tsfel)\n",
      "File \u001b[1;32mc:\\Users\\ishika & divita\\AppData\\Local\\Programs\\Python\\Python312\\Lib\\site-packages\\sklearn\\base.py:1473\u001b[0m, in \u001b[0;36m_fit_context.<locals>.decorator.<locals>.wrapper\u001b[1;34m(estimator, *args, **kwargs)\u001b[0m\n\u001b[0;32m   1466\u001b[0m     estimator\u001b[38;5;241m.\u001b[39m_validate_params()\n\u001b[0;32m   1468\u001b[0m \u001b[38;5;28;01mwith\u001b[39;00m config_context(\n\u001b[0;32m   1469\u001b[0m     skip_parameter_validation\u001b[38;5;241m=\u001b[39m(\n\u001b[0;32m   1470\u001b[0m         prefer_skip_nested_validation \u001b[38;5;129;01mor\u001b[39;00m global_skip_validation\n\u001b[0;32m   1471\u001b[0m     )\n\u001b[0;32m   1472\u001b[0m ):\n\u001b[1;32m-> 1473\u001b[0m     \u001b[38;5;28;01mreturn\u001b[39;00m \u001b[43mfit_method\u001b[49m\u001b[43m(\u001b[49m\u001b[43mestimator\u001b[49m\u001b[43m,\u001b[49m\u001b[43m \u001b[49m\u001b[38;5;241;43m*\u001b[39;49m\u001b[43margs\u001b[49m\u001b[43m,\u001b[49m\u001b[43m \u001b[49m\u001b[38;5;241;43m*\u001b[39;49m\u001b[38;5;241;43m*\u001b[39;49m\u001b[43mkwargs\u001b[49m\u001b[43m)\u001b[49m\n",
      "File \u001b[1;32mc:\\Users\\ishika & divita\\AppData\\Local\\Programs\\Python\\Python312\\Lib\\site-packages\\sklearn\\tree\\_classes.py:1009\u001b[0m, in \u001b[0;36mDecisionTreeClassifier.fit\u001b[1;34m(self, X, y, sample_weight, check_input)\u001b[0m\n\u001b[0;32m    978\u001b[0m \u001b[38;5;129m@_fit_context\u001b[39m(prefer_skip_nested_validation\u001b[38;5;241m=\u001b[39m\u001b[38;5;28;01mTrue\u001b[39;00m)\n\u001b[0;32m    979\u001b[0m \u001b[38;5;28;01mdef\u001b[39;00m \u001b[38;5;21mfit\u001b[39m(\u001b[38;5;28mself\u001b[39m, X, y, sample_weight\u001b[38;5;241m=\u001b[39m\u001b[38;5;28;01mNone\u001b[39;00m, check_input\u001b[38;5;241m=\u001b[39m\u001b[38;5;28;01mTrue\u001b[39;00m):\n\u001b[0;32m    980\u001b[0m \u001b[38;5;250m    \u001b[39m\u001b[38;5;124;03m\"\"\"Build a decision tree classifier from the training set (X, y).\u001b[39;00m\n\u001b[0;32m    981\u001b[0m \n\u001b[0;32m    982\u001b[0m \u001b[38;5;124;03m    Parameters\u001b[39;00m\n\u001b[1;32m   (...)\u001b[0m\n\u001b[0;32m   1006\u001b[0m \u001b[38;5;124;03m        Fitted estimator.\u001b[39;00m\n\u001b[0;32m   1007\u001b[0m \u001b[38;5;124;03m    \"\"\"\u001b[39;00m\n\u001b[1;32m-> 1009\u001b[0m     \u001b[38;5;28;43msuper\u001b[39;49m\u001b[43m(\u001b[49m\u001b[43m)\u001b[49m\u001b[38;5;241;43m.\u001b[39;49m\u001b[43m_fit\u001b[49m\u001b[43m(\u001b[49m\n\u001b[0;32m   1010\u001b[0m \u001b[43m        \u001b[49m\u001b[43mX\u001b[49m\u001b[43m,\u001b[49m\n\u001b[0;32m   1011\u001b[0m \u001b[43m        \u001b[49m\u001b[43my\u001b[49m\u001b[43m,\u001b[49m\n\u001b[0;32m   1012\u001b[0m \u001b[43m        \u001b[49m\u001b[43msample_weight\u001b[49m\u001b[38;5;241;43m=\u001b[39;49m\u001b[43msample_weight\u001b[49m\u001b[43m,\u001b[49m\n\u001b[0;32m   1013\u001b[0m \u001b[43m        \u001b[49m\u001b[43mcheck_input\u001b[49m\u001b[38;5;241;43m=\u001b[39;49m\u001b[43mcheck_input\u001b[49m\u001b[43m,\u001b[49m\n\u001b[0;32m   1014\u001b[0m \u001b[43m    \u001b[49m\u001b[43m)\u001b[49m\n\u001b[0;32m   1015\u001b[0m     \u001b[38;5;28;01mreturn\u001b[39;00m \u001b[38;5;28mself\u001b[39m\n",
      "File \u001b[1;32mc:\\Users\\ishika & divita\\AppData\\Local\\Programs\\Python\\Python312\\Lib\\site-packages\\sklearn\\tree\\_classes.py:355\u001b[0m, in \u001b[0;36mBaseDecisionTree._fit\u001b[1;34m(self, X, y, sample_weight, check_input, missing_values_in_feature_mask)\u001b[0m\n\u001b[0;32m    352\u001b[0m max_leaf_nodes \u001b[38;5;241m=\u001b[39m \u001b[38;5;241m-\u001b[39m\u001b[38;5;241m1\u001b[39m \u001b[38;5;28;01mif\u001b[39;00m \u001b[38;5;28mself\u001b[39m\u001b[38;5;241m.\u001b[39mmax_leaf_nodes \u001b[38;5;129;01mis\u001b[39;00m \u001b[38;5;28;01mNone\u001b[39;00m \u001b[38;5;28;01melse\u001b[39;00m \u001b[38;5;28mself\u001b[39m\u001b[38;5;241m.\u001b[39mmax_leaf_nodes\n\u001b[0;32m    354\u001b[0m \u001b[38;5;28;01mif\u001b[39;00m \u001b[38;5;28mlen\u001b[39m(y) \u001b[38;5;241m!=\u001b[39m n_samples:\n\u001b[1;32m--> 355\u001b[0m     \u001b[38;5;28;01mraise\u001b[39;00m \u001b[38;5;167;01mValueError\u001b[39;00m(\n\u001b[0;32m    356\u001b[0m         \u001b[38;5;124m\"\u001b[39m\u001b[38;5;124mNumber of labels=\u001b[39m\u001b[38;5;132;01m%d\u001b[39;00m\u001b[38;5;124m does not match number of samples=\u001b[39m\u001b[38;5;132;01m%d\u001b[39;00m\u001b[38;5;124m\"\u001b[39m\n\u001b[0;32m    357\u001b[0m         \u001b[38;5;241m%\u001b[39m (\u001b[38;5;28mlen\u001b[39m(y), n_samples)\n\u001b[0;32m    358\u001b[0m     )\n\u001b[0;32m    360\u001b[0m \u001b[38;5;28;01mif\u001b[39;00m sample_weight \u001b[38;5;129;01mis\u001b[39;00m \u001b[38;5;129;01mnot\u001b[39;00m \u001b[38;5;28;01mNone\u001b[39;00m:\n\u001b[0;32m    361\u001b[0m     sample_weight \u001b[38;5;241m=\u001b[39m _check_sample_weight(sample_weight, X, DOUBLE)\n",
      "\u001b[1;31mValueError\u001b[0m: Number of labels=7352 does not match number of samples=1"
     ]
    }
   ],
   "source": [
    "import numpy as np\n",
    "import pandas as pd\n",
    "from sklearn.tree import DecisionTreeClassifier\n",
    "from sklearn.metrics import accuracy_score, precision_score, recall_score, confusion_matrix\n",
    "import tsfel\n",
    "\n",
    "# Load raw accelerometer data\n",
    "X_train_raw = pd.read_csv(r\"UCI HAR Dataset\\UCI HAR Dataset\\train\\X_train.txt\", delim_whitespace=True, header=None)\n",
    "y_train = pd.read_csv(r\"UCI HAR Dataset\\UCI HAR Dataset\\train\\y_train.txt\", delim_whitespace=True, header=None)\n",
    "X_test_raw = pd.read_csv(r\"UCI HAR Dataset\\UCI HAR Dataset\\test\\X_test.txt\", delim_whitespace=True, header=None)\n",
    "y_test = pd.read_csv(r\"UCI HAR Dataset\\UCI HAR Dataset\\test\\y_test.txt\", delim_whitespace=True, header=None)\n",
    "\n",
    "# Flatten y_train and y_test\n",
    "y_train = y_train.values.ravel()\n",
    "y_test = y_test.values.ravel()\n",
    "\n",
    "# Debug: Check initial data shapes\n",
    "print(f\"Raw X_train shape: {X_train_raw.shape}\")\n",
    "print(f\"Raw y_train shape: {y_train.shape}\")\n",
    "print(f\"Raw X_test shape: {X_test_raw.shape}\")\n",
    "print(f\"Raw y_test shape: {y_test.shape}\")\n",
    "\n",
    "# Extract features using TSFEL\n",
    "# Get the TSFEL configuration file for standard features\n",
    "cfg = tsfel.get_features_by_domain()\n",
    "\n",
    "# Extract features for the train and test datasets\n",
    "X_train_tsfel = tsfel.time_series_features_extractor(cfg, X_train_raw)\n",
    "X_test_tsfel = tsfel.time_series_features_extractor(cfg, X_test_raw)\n",
    "\n",
    "# Debug: Check feature data shapes after TSFEL extraction\n",
    "print(f\"Extracted X_train_tsfel shape: {X_train_tsfel.shape}\")\n",
    "print(f\"Extracted X_test_tsfel shape: {X_test_tsfel.shape}\")\n",
    "\n",
    "# Check if the number of samples matches between features and labels\n",
    "if X_train_tsfel.shape[0] != len(y_train):\n",
    "    print(\"Mismatch in the number of samples between X_train and y_train!\")\n",
    "\n",
    "# Train a Decision Tree Classifier\n",
    "clf = DecisionTreeClassifier(criterion=\"gini\", random_state=46, min_samples_split=4, max_features='sqrt')\n",
    "\n",
    "clf.fit(X_train_tsfel, y_train)\n",
    "\n",
    "# Predict on train and test data\n",
    "y_train_pred = clf.predict(X_train_tsfel)\n",
    "y_test_pred = clf.predict(X_test_tsfel)\n",
    "\n",
    "# Calculate accuracy, precision, recall, and confusion matrix\n",
    "train_ac = accuracy_score(y_train, y_train_pred)\n",
    "test_ac = accuracy_score(y_test, y_test_pred)\n",
    "precision = precision_score(y_test, y_test_pred, average='weighted')\n",
    "recall = recall_score(y_test, y_test_pred, average='weighted')\n",
    "conf_matrix = confusion_matrix(y_test, y_test_pred)\n",
    "\n",
    "# Print the results\n",
    "print(f\"Accuracy on train dataset: {train_ac * 100:.2f}%\")\n",
    "print(f\"Accuracy on test dataset: {test_ac * 100:.2f}%\")\n",
    "print(f\"Precision on test dataset: {precision * 100:.2f}%\")\n",
    "print(f\"Recall on test dataset: {recall * 100:.2f}%\")\n",
    "print(\"Confusion Matrix:\")\n",
    "print(conf_matrix)\n"
   ]
  },
  {
   "cell_type": "code",
   "execution_count": null,
   "id": "0d01aaaf",
   "metadata": {},
   "outputs": [],
   "source": []
  }
 ],
 "metadata": {
  "kernelspec": {
   "display_name": "Python 3",
   "language": "python",
   "name": "python3"
  },
  "language_info": {
   "codemirror_mode": {
    "name": "ipython",
    "version": 3
   },
   "file_extension": ".py",
   "mimetype": "text/x-python",
   "name": "python",
   "nbconvert_exporter": "python",
   "pygments_lexer": "ipython3",
   "version": "3.12.2"
  }
 },
 "nbformat": 4,
 "nbformat_minor": 5
}
